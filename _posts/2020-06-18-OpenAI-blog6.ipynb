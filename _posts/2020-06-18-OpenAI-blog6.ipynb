{
 "cells": [
  {
   "cell_type": "markdown",
   "metadata": {},
   "source": [
    "# OpenAI Scholars: Sixth Steps - A PyTorch Tutorial\n",
    "\n",
    "Over the course of the [OpenAI Scholars program](https://openai.com/blog/openai-scholars-spring-2020/), my mentor [Johannes](https://jotterbach.github.io/) has given me a number of very helpful pair programming tutorials to improve my facility with `PyTorch`.\n",
    "\n",
    "Since they were useful to me, I see no reason not to share them with you. :-)\n",
    "\n",
    "This is the very first tutorial, which we did a couple of months back. It's a common beginners' machine learning example: Training a logistic regression classifier to separate digits of the [MNIST dataset](https://en.wikipedia.org/wiki/MNIST_database).\n",
    "\n",
    "If you're interested in a more verbose discussion about datasets and dataloaders in `PyTorch`, I recommend an [earlier blog post I wrote on this topic](https://katarinaslama.github.io/2020/04/02/OpenAI-blog3/)."
   ]
  },
  {
   "cell_type": "markdown",
   "metadata": {},
   "source": [
    "### Import the requisite packages\n",
    "\n",
    "Importing the packages you'll need is usually a good place to start."
   ]
  },
  {
   "cell_type": "code",
   "execution_count": 2,
   "metadata": {},
   "outputs": [],
   "source": [
    "import torch\n",
    "import torch.nn as nn\n",
    "import torch.nn.functional as F\n",
    "import torch.utils.data as tud\n",
    "import torchvision.datasets as ds\n",
    "import torchvision.transforms as tr\n",
    "import torchvision.utils as tvu\n",
    "\n",
    "import numpy as np\n",
    "import pandas as pd"
   ]
  },
  {
   "cell_type": "markdown",
   "metadata": {},
   "source": [
    "([`tqdm`](https://pypi.org/project/tqdm/) is a really cool package that I learned about during the program. It makes a handy progress bar for your network training. Also, the name of the package derives from the Arabic word root [\"qadama\", to precede](https://cooljugator.com/ar/%D9%82%D8%AF%D9%85), and here it means \"progress\". So \"taqaddum\" helps you track your network's progress.)"
   ]
  },
  {
   "cell_type": "code",
   "execution_count": 3,
   "metadata": {},
   "outputs": [],
   "source": [
    "from tqdm.notebook import tqdm\n",
    "\n",
    "import matplotlib.pyplot as plt\n",
    "%matplotlib inline"
   ]
  },
  {
   "cell_type": "markdown",
   "metadata": {},
   "source": [
    "### Torvision datasets\n",
    "\n",
    "The `torchvision.datasets` package (here, `ds`) has a method for downloading a nicely curated version of the MNIST dataset, which we can use for learning. We start by defining a root directory, where we will store the data. (It does not need to exist on your computer yet. `PyTorch` will create it for you if you don't have it."
   ]
  },
  {
   "cell_type": "code",
   "execution_count": 4,
   "metadata": {},
   "outputs": [],
   "source": [
    "root_directory = '~/pp_mnist'"
   ]
  },
  {
   "cell_type": "markdown",
   "metadata": {},
   "source": [
    "We're going to apply some transforms to our data, including converting it to `PyTorch` tensors, and rescaling it to range from -1 to 1. We define the transforms here, but do not apply them yet."
   ]
  },
  {
   "cell_type": "code",
   "execution_count": 5,
   "metadata": {},
   "outputs": [],
   "source": [
    "transforms = tr.Compose([\n",
    "    tr.ToTensor(),\n",
    "    tr.Lambda(lambda x: (2. * x - 1).reshape(-1, ))\n",
    "])"
   ]
  },
  {
   "cell_type": "markdown",
   "metadata": {},
   "source": [
    "Next, we load the MNIST data the `torchvision.datasets` package. We do so separately for the training and test sets. We apply the transforms that we defined above. We set the `download` flag to `True` because we have not downloaded this data before. (If you already have the data in your root directory, you can save some time and compute by setting it to `False`)."
   ]
  },
  {
   "cell_type": "code",
   "execution_count": 6,
   "metadata": {},
   "outputs": [],
   "source": [
    "train_ds = ds.MNIST(root=root_directory,\n",
    "                    train=True,\n",
    "                    transform=transforms,\n",
    "                    download=True)\n",
    "\n",
    "test_ds = ds.MNIST(root=root_directory,\n",
    "                   train=False,\n",
    "                   transform=transforms,\n",
    "                   download=True)"
   ]
  },
  {
   "cell_type": "markdown",
   "metadata": {},
   "source": [
    "### Torvision dataloaders\n",
    "\n",
    "Now, we define dataloaders for our training and test sets, so that we can iterate through the MNIST examples in batches and in randomized order. Sometimes, the last batch is incomplete (if the training set size doesn't happen to be a multiple of your batch size), and this can cause problems if you don't consider that in subsequent code. An easy way to mitigate against this problem is by setting the `drop_last` flag to `True`. As you might have guessed, that excludes the last batch from your training and evaluation processes."
   ]
  },
  {
   "cell_type": "code",
   "execution_count": 7,
   "metadata": {},
   "outputs": [],
   "source": [
    "train_loader = tud.DataLoader(train_ds,\n",
    "                              batch_size=128,\n",
    "                              shuffle=True,\n",
    "                              drop_last=True)\n",
    "\n",
    "test_loader = tud.DataLoader(test_ds,\n",
    "                             batch_size=128,\n",
    "                             shuffle=False,\n",
    "                             drop_last=True)"
   ]
  },
  {
   "cell_type": "markdown",
   "metadata": {},
   "source": [
    "### Visualize some examples from your data"
   ]
  },
  {
   "cell_type": "markdown",
   "metadata": {},
   "source": [
    "Now that we have the data, it's a good idea to take a look at (at least some of) it.\n",
    "The first step is to extract some examples from the trainloader, and to do so, we turn it into an iterator."
   ]
  },
  {
   "cell_type": "code",
   "execution_count": 8,
   "metadata": {},
   "outputs": [],
   "source": [
    "train_iterator = iter(train_loader)"
   ]
  },
  {
   "cell_type": "markdown",
   "metadata": {},
   "source": [
    "Then we call the `next` method on the train iterator, to get a batch of training examples. The zeroeth element has the data (the actual MNIST digits), and the first element has the labels."
   ]
  },
  {
   "cell_type": "code",
   "execution_count": 9,
   "metadata": {},
   "outputs": [],
   "source": [
    "this_batch, these_labels = train_iterator.next()"
   ]
  },
  {
   "cell_type": "markdown",
   "metadata": {},
   "source": [
    "`torchvision` has a handy method called `make_grid`, which allows us to visualize examples on a grid."
   ]
  },
  {
   "cell_type": "code",
   "execution_count": 10,
   "metadata": {},
   "outputs": [],
   "source": [
    "tvu_fig = tvu.make_grid(this_batch[:16, ...].reshape(16, 1, 28, 28),\n",
    "                        nrow=4,\n",
    "                        normalize=True,\n",
    "                        scale_each=True)"
   ]
  },
  {
   "cell_type": "markdown",
   "metadata": {},
   "source": [
    "To actually plot the figure, we need to use the `matplotlib` library (`plt` below), and that library only really plays nice with numpy, so we convert our `PyTorch` tensor to `NumPy` in order to plot it. Images are formatted differently in `PyTorch` than `NumPy`, so we also change the order of the image dimensions, using the `permute` method."
   ]
  },
  {
   "cell_type": "code",
   "execution_count": 11,
   "metadata": {},
   "outputs": [
    {
     "data": {
      "image/png": "[encoded data removed]",
      "text/plain": [
       "<Figure size 432x288 with 1 Axes>"
      ]
     },
     "metadata": {
      "needs_background": "light"
     },
     "output_type": "display_data"
    }
   ],
   "source": [
    "plt.imshow(tvu_fig.permute(1, 2, 0).data.numpy()) \n",
    "plt.axis('off')\n",
    "pass"
   ]
  },
  {
   "cell_type": "markdown",
   "metadata": {},
   "source": [
    "We can also take a look at the labels, corresponding to the data."
   ]
  },
  {
   "cell_type": "code",
   "execution_count": 12,
   "metadata": {},
   "outputs": [
    {
     "name": "stdout",
     "output_type": "stream",
     "text": [
      "tensor([1, 1, 5, 1, 9, 0, 1, 5, 9, 5, 8, 0, 3, 8, 3, 1])\n"
     ]
    }
   ],
   "source": [
    "print(these_labels[:16])"
   ]
  },
  {
   "cell_type": "markdown",
   "metadata": {},
   "source": [
    "See! We have the data. And the labels make sense. :-) Don't you wish all data collection was this easy?..."
   ]
  },
  {
   "cell_type": "markdown",
   "metadata": {},
   "source": [
    "Onward!"
   ]
  },
  {
   "cell_type": "markdown",
   "metadata": {},
   "source": [
    "### Define the model"
   ]
  },
  {
   "cell_type": "markdown",
   "metadata": {},
   "source": [
    "Now that we have the data, and we have confirmed to ourselves that it looks as we would hope, we can define a model, which we will use to learn a mapping between the image data and the corresponding labels."
   ]
  },
  {
   "cell_type": "markdown",
   "metadata": {},
   "source": [
    "A good model to start with when you have discrete labels (in the case of the MNIST dataset, we have 10, one for each digit), is a logistic regression. But notice that the way we define a model in `PyTorch` (as below) is very general, and you can plug in all sorts of exciting models into this general code skeleton."
   ]
  },
  {
   "cell_type": "markdown",
   "metadata": {},
   "source": [
    "The defining features of a `PyTorch` module are the `__init__` and `forward` methods. In the `init` method, we define the model, i.e. the network architecture, by specifying any functions that we are planning to use.\n",
    "In the `forward` method, we specify *how*, i.e. in what order, we want to apply those functions. "
   ]
  },
  {
   "cell_type": "code",
   "execution_count": 13,
   "metadata": {},
   "outputs": [],
   "source": [
    "class LogReg(nn.Module):\n",
    "    def __init__(self):\n",
    "        super(LogReg, self).__init__()\n",
    "        self.num_classes = 10\n",
    "        self.logits = nn.Sequential(\n",
    "            nn.Linear(28**2, # the shape of each image is 28*28 pixels\n",
    "                      self.num_classes))\n",
    "\n",
    "    def forward(self, x):\n",
    "        return self.logits(x)"
   ]
  },
  {
   "cell_type": "markdown",
   "metadata": {},
   "source": [
    "### Define the evaluation loop (test process)"
   ]
  },
  {
   "cell_type": "markdown",
   "metadata": {},
   "source": [
    "Next, we define the evaluation loop. The evaluation loop will get called at the end of each training epoch (see the section, **Train the model**, below). Its purpose is to evaluate how well our model is doing on the test set. What happens in the evaluation loop does not affect the model weights."
   ]
  },
  {
   "cell_type": "code",
   "execution_count": 14,
   "metadata": {},
   "outputs": [],
   "source": [
    "def eval_loop(model, test_loader):\n",
    "    # Set the model to evaluation mode. This saves a lot of computational work, because we don't need to compute\n",
    "    # when we evaluate the model.\n",
    "    model.eval()\n",
    "    \n",
    "    # Initialize a list to store accuracy values\n",
    "    acc = []\n",
    "    # Iterate through the test loader. Use tqdm to display our progress.\n",
    "    for this_batch, these_labels in tqdm(test_loader, \n",
    "                                         leave=False):\n",
    "        # Get model predictions for each batch.\n",
    "        pred = model(this_batch)\n",
    "        # Get labels out of the predictions, by simply extracting the maximal value from the real-valued predictions.\n",
    "        pred_lbl = pred.argmax(dim=-1)\n",
    "        # For each training example, store whether we predicted the correct label in our accuracy (acc) list\n",
    "        acc += (pred_lbl == these_labels).numpy().tolist()\n",
    "    # When we've gone through all the batches, return the mean of the accuracy counts.\n",
    "    return np.mean(acc)"
   ]
  },
  {
   "cell_type": "markdown",
   "metadata": {},
   "source": [
    "### Train the model"
   ]
  },
  {
   "cell_type": "markdown",
   "metadata": {},
   "source": [
    "Finally, we are ready to train our model! To do so, we first create a model instance by calling our `LogReg` module from above."
   ]
  },
  {
   "cell_type": "code",
   "execution_count": 15,
   "metadata": {},
   "outputs": [],
   "source": [
    "model = LogReg()"
   ]
  },
  {
   "cell_type": "markdown",
   "metadata": {},
   "source": [
    "Then, we create an optimizer, whom we will name `opt`. We choose the `Adam` optimizer, but `PyTorch` [has many optimizers that you can choose from](https://pytorch.org/docs/stable/optim.html). We select a [learning rate](https://en.wikipedia.org/wiki/Learning_rate), `lr`, of 0.001. Notice that the learning rate is itself a [hyperparameter](https://en.wikipedia.org/wiki/Hyperparameter_(machine_learning)) that you can optimize."
   ]
  },
  {
   "cell_type": "code",
   "execution_count": 16,
   "metadata": {},
   "outputs": [],
   "source": [
    "opt = torch.optim.Adam(model.parameters(), \n",
    "                       lr=1e-3)"
   ]
  },
  {
   "cell_type": "markdown",
   "metadata": {},
   "source": [
    "We choose a criterion, `crit`, also known as a [loss function](https://en.wikipedia.org/wiki/Loss_function), which will help us determine how well the model is doing and in what direction to update its weights. We choose [`CrossEntropyLoss`](https://ml-cheatsheet.readthedocs.io/en/latest/loss_functions.html), which is usually a good choice for categorical data."
   ]
  },
  {
   "cell_type": "code",
   "execution_count": 17,
   "metadata": {},
   "outputs": [],
   "source": [
    "crit = nn.CrossEntropyLoss()"
   ]
  },
  {
   "cell_type": "markdown",
   "metadata": {},
   "source": [
    "We will train for 10 [epochs](https://machinelearningmastery.com/difference-between-a-batch-and-an-epoch/). In one epoch you loop through all of your training data once. You might try training with more epochs and see if that helps performance."
   ]
  },
  {
   "cell_type": "code",
   "execution_count": 18,
   "metadata": {},
   "outputs": [],
   "source": [
    "epochs = 10"
   ]
  },
  {
   "cell_type": "markdown",
   "metadata": {},
   "source": [
    "Next, we loop through our epochs to train the model, while monitoring performance."
   ]
  },
  {
   "cell_type": "code",
   "execution_count": null,
   "metadata": {},
   "outputs": [
    {
     "data": {
      "application/vnd.jupyter.widget-view+json": {
       "model_id": "446635087b3449baa7ffd2d7ad322db2",
       "version_major": 2,
       "version_minor": 0
      },
      "text/plain": [
       "HBox(children=(IntProgress(value=0, max=10), HTML(value='')))"
      ]
     },
     "metadata": {},
     "output_type": "display_data"
    },
    {
     "data": {
      "application/vnd.jupyter.widget-view+json": {
       "model_id": "b7297ced13864238bcd6b2d34c7f2814",
       "version_major": 2,
       "version_minor": 0
      },
      "text/plain": [
       "HBox(children=(IntProgress(value=0, max=468), HTML(value='')))"
      ]
     },
     "metadata": {},
     "output_type": "display_data"
    }
   ],
   "source": [
    "for e in tqdm(range(epochs), \n",
    "              leave=True):\n",
    "    # We set the model to \"train\" mode, which means that we will compute the gradient that we need, and update the weights.\n",
    "    model.train()\n",
    "    # We loop through all the batches in our train loader.\n",
    "    for this_batch, these_labels in tqdm(train_loader, leave=False):\n",
    "        # We want to set the gradient to 0 between each batch (weight update). Otherwise, PyTorch accumulates them, \n",
    "        # and bad things happen.    \n",
    "        opt.zero_grad()\n",
    "        # We compute model predictions by applying the model to a batch of data.\n",
    "        pred = model(this_batch)\n",
    "        # Once, we have the predictions, we calculate how bad they are by computing the loss (CrossEntropyLoss from above)\n",
    "        # between the predictions and the true labels.\n",
    "        loss = crit(pred, these_labels)\n",
    "        # We use the \"backward\" command to compute the gradient that we need for updating the model.\n",
    "        loss.backward()\n",
    "        # We use the \"step\" command to actually update the model. \n",
    "        opt.step()\n",
    "    \n",
    "    # Now that we have an updated model, after having seen all the data once, we evaluate how well the model is doing\n",
    "    # on the heldout test set, by calling our \"eval_loop\" from above.\n",
    "    acc = eval_loop(model, test_loader)\n",
    "    \n",
    "    # And we print the results. If things are going well, the loss should be going down, and the accuracy should be going up.\n",
    "    print('**epoch**: ', e)\n",
    "    print('training loss: ', loss.detach().numpy())\n",
    "    print('test accuracy: ', acc)"
   ]
  },
  {
   "cell_type": "markdown",
   "metadata": {},
   "source": [
    "### You're done!"
   ]
  },
  {
   "cell_type": "markdown",
   "metadata": {},
   "source": [
    "...and that's it for this first demo. I suggest that you try changing something in this notebook to see what happens. Can you make the accuracy go up more?"
   ]
  },
  {
   "cell_type": "code",
   "execution_count": null,
   "metadata": {},
   "outputs": [],
   "source": []
  }
 ],
 "metadata": {
  "kernelspec": {
   "display_name": "Python 3",
   "language": "python",
   "name": "python3"
  },
  "language_info": {
   "codemirror_mode": {
    "name": "ipython",
    "version": 3
   },
   "file_extension": ".py",
   "mimetype": "text/x-python",
   "name": "python",
   "nbconvert_exporter": "python",
   "pygments_lexer": "ipython3",
   "version": "3.7.4"
  }
 },
 "nbformat": 4,
 "nbformat_minor": 2
}
